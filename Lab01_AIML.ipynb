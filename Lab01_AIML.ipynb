{
  "nbformat": 4,
  "nbformat_minor": 0,
  "metadata": {
    "colab": {
      "provenance": [],
      "authorship_tag": "ABX9TyPlMamrLlf2S0AcDlsBwQWR",
      "include_colab_link": true
    },
    "kernelspec": {
      "name": "python3",
      "display_name": "Python 3"
    },
    "language_info": {
      "name": "python"
    }
  },
  "cells": [
    {
      "cell_type": "markdown",
      "metadata": {
        "id": "view-in-github",
        "colab_type": "text"
      },
      "source": [
        "<a href=\"https://colab.research.google.com/github/Jangala-Megha-Harsha/AIML-2025/blob/main/Lab01_AIML.ipynb\" target=\"_parent\"><img src=\"https://colab.research.google.com/assets/colab-badge.svg\" alt=\"Open In Colab\"/></a>"
      ]
    },
    {
      "cell_type": "markdown",
      "source": [
        "# **Lab01- Implement basic data structures of Numpy, Pandas, Matplotlib and Access Data from sources**"
      ],
      "metadata": {
        "id": "fNLoUtbRv33e"
      }
    },
    {
      "cell_type": "markdown",
      "source": [
        "# Part 01: Lab Task is implement the following data structures using Numpy and Pandas."
      ],
      "metadata": {
        "id": "5iK5vd58sk78"
      }
    },
    {
      "cell_type": "code",
      "execution_count": null,
      "metadata": {
        "colab": {
          "base_uri": "https://localhost:8080/"
        },
        "id": "WtyrQLDPqbR2",
        "outputId": "2d2e699e-516d-4132-be95-1b5ca1b4dc05"
      },
      "outputs": [
        {
          "output_type": "execute_result",
          "data": {
            "text/plain": [
              "array([1, 2, 3])"
            ]
          },
          "metadata": {},
          "execution_count": 6
        }
      ],
      "source": [
        "import numpy as np\n",
        "List1 = [1, 2, 3]\n",
        "array1 = np.array(List1)\n",
        "array1"
      ]
    },
    {
      "cell_type": "code",
      "source": [
        "type(List1)"
      ],
      "metadata": {
        "colab": {
          "base_uri": "https://localhost:8080/"
        },
        "id": "q2m4qEj5tclc",
        "outputId": "91a8df69-9851-4166-caa3-6db4a8920d15"
      },
      "execution_count": null,
      "outputs": [
        {
          "output_type": "execute_result",
          "data": {
            "text/plain": [
              "list"
            ]
          },
          "metadata": {},
          "execution_count": 7
        }
      ]
    },
    {
      "cell_type": "code",
      "source": [
        "type(array1)"
      ],
      "metadata": {
        "colab": {
          "base_uri": "https://localhost:8080/"
        },
        "id": "CO8L072ft8at",
        "outputId": "ed9676e5-9b4a-4a1e-ae0c-ffd305daa612"
      },
      "execution_count": null,
      "outputs": [
        {
          "output_type": "execute_result",
          "data": {
            "text/plain": [
              "numpy.ndarray"
            ]
          },
          "metadata": {},
          "execution_count": 8
        }
      ]
    },
    {
      "cell_type": "markdown",
      "source": [
        "**Perform Mathematical Operations on these datasets - Multiplication, Division, Poweroff**"
      ],
      "metadata": {
        "id": "me72x-J3wQ6z"
      }
    },
    {
      "cell_type": "code",
      "source": [
        "List2 = [3, 2, 1]\n",
        "array2 = np.array(List2)\n",
        "array2"
      ],
      "metadata": {
        "colab": {
          "base_uri": "https://localhost:8080/"
        },
        "id": "kxtHT2MnuLav",
        "outputId": "eb0cb149-906b-4e62-8e5f-21a807be77e7"
      },
      "execution_count": null,
      "outputs": [
        {
          "output_type": "execute_result",
          "data": {
            "text/plain": [
              "array([3, 2, 1])"
            ]
          },
          "metadata": {},
          "execution_count": 9
        }
      ]
    },
    {
      "cell_type": "code",
      "source": [
        "print(\"array2 Multiplied by array1: \", array2 * array1)\n",
        "print(\"array2 Divided by array1: \", array2 / array1)\n",
        "print(f\"array2 raised to the Power of array1: {array2 ** array1}\")\n",
        "print(f\"{array2} raised to the Power of {array1}: {array2 ** array1}\")"
      ],
      "metadata": {
        "colab": {
          "base_uri": "https://localhost:8080/"
        },
        "id": "5PhkkyaJuZK8",
        "outputId": "6a3debef-4b59-4334-87fe-c27c79bb77ed"
      },
      "execution_count": null,
      "outputs": [
        {
          "output_type": "stream",
          "name": "stdout",
          "text": [
            "array2 Multiplied by array1:  [3 4 3]\n",
            "array2 Divided by array1:  [3.         1.         0.33333333]\n",
            "array2 raised to the Power of array1: [3 4 1]\n",
            "[3 2 1] raised to the Power of [1 2 3]: [3 4 1]\n"
          ]
        }
      ]
    },
    {
      "cell_type": "code",
      "source": [
        "# sine function\n",
        "print(\"Sine of array1: \",np.sin(array1))\n",
        "print(\"Sine of array2: \",np.sin(array2))\n",
        "# Cosine function\n",
        "print(\"Cosine of array1: \", np.cos(array1))\n",
        "print(\"Cosine of array2: \", np.cos(array2))\n",
        "# logarithm\n",
        "print(\"Natural logarithm: \",np.log(array1))\n",
        "print(\"Base-10 logarithm: \",np.log10(array1))\n",
        "print(\"Base-2 logarithm: \",np.log2(array1))\n",
        "# Exponential\n",
        "print(\"Exponential: \",np.exp(array1))"
      ],
      "metadata": {
        "colab": {
          "base_uri": "https://localhost:8080/"
        },
        "id": "i6pVZ_JEw0MS",
        "outputId": "e6daca9e-ec19-4358-ede2-89f3848044ae"
      },
      "execution_count": 13,
      "outputs": [
        {
          "output_type": "stream",
          "name": "stdout",
          "text": [
            "Sine of array1:  [0.84147098 0.90929743 0.14112001]\n",
            "Sine of array2:  [0.14112001 0.90929743 0.84147098]\n",
            "Cosine of array1:  [ 0.54030231 -0.41614684 -0.9899925 ]\n",
            "Cosine of array2:  [-0.9899925  -0.41614684  0.54030231]\n",
            "Natural logarithm:  [0.         0.69314718 1.09861229]\n",
            "Base-10 logarithm:  [0.         0.30103    0.47712125]\n",
            "Base-2 logarithm:  [0.        1.        1.5849625]\n",
            "Exponential:  [ 2.71828183  7.3890561  20.08553692]\n"
          ]
        }
      ]
    },
    {
      "cell_type": "code",
      "source": [
        "print(\"Adding two numpy arrays {array1} and {array2} together:\", array1+array2)\n",
        "print(f\"Adding two numpy arrays {array1} and {array2} together: {array1+array2}\")"
      ],
      "metadata": {
        "colab": {
          "base_uri": "https://localhost:8080/"
        },
        "id": "xPkY_pVaxoIO",
        "outputId": "85cc8190-1ca8-42d9-9efb-ee8507229390"
      },
      "execution_count": 14,
      "outputs": [
        {
          "output_type": "stream",
          "name": "stdout",
          "text": [
            "Adding two numpy arrays {array1} and {array2} together: [4 4 4]\n",
            "Adding two numpy arrays [1 2 3] and [3 2 1] together: [4 4 4]\n"
          ]
        }
      ]
    }
  ]
}